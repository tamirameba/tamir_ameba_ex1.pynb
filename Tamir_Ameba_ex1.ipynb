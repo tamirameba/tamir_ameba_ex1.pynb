{
  "nbformat": 4,
  "nbformat_minor": 0,
  "metadata": {
    "colab": {
      "provenance": []
    },
    "kernelspec": {
      "name": "python3",
      "display_name": "Python 3"
    },
    "language_info": {
      "name": "python"
    }
  },
  "cells": [
    {
      "cell_type": "markdown",
      "source": [
        "1. Load breast cancer dataset (**structured data**)\n",
        "\n",
        "For more details about the data: https://scikit-learn.org/1.5/modules/generated/sklearn.datasets.load_breast_cancer.html"
      ],
      "metadata": {
        "id": "t1I0ncvTh3x8"
      }
    },
    {
      "cell_type": "code",
      "source": [
        "\n",
        "from sklearn.datasets import load_breast_cancer\n",
        "\n",
        "my_data = load_breast_cancer()\n",
        "\n",
        "X =my_data.data\n",
        "y =my_data.target"
      ],
      "metadata": {
        "id": "QbVFGbTWiI1W"
      },
      "execution_count": 2,
      "outputs": []
    },
    {
      "cell_type": "markdown",
      "source": [
        "2. Visualize the data\n",
        "\n",
        "- Only **5 points** for visualizing the data\n",
        "- Use TSNE algorithm: sklearn.manifold.TSNE\n",
        "- A good and simple code can be found here (they used PCA instead of TSNE): https://skp2707.medium.com/pca-on-cancer-dataset-4d7a97f5fdb8"
      ],
      "metadata": {
        "id": "LZgoZpwxXcuz"
      }
    },
    {
      "cell_type": "code",
      "source": [
        "from sklearn.manifold import TSNE\n",
        "import numpy as np\n",
        "import pandas as pd\n",
        "import seaborn as sns\n",
        "import matplotlib.pyplot as plt\n",
        "\n",
        "np.random.seed(42)\n",
        "sample_indices = np.random.choice(X.shape[0], 100, replace=False)\n",
        "X_sample = X[sample_indices]\n",
        "y_sample = y[sample_indices]\n",
        "\n",
        "\n",
        "tsne = TSNE(n_components=2, random_state=42, perplexity=30)\n",
        "X_tsne_sample = tsne.fit_transform(X_sample)\n",
        "\n",
        "\n",
        "plt.figure(figsize=(8, 6))\n",
        "plt.scatter(X_tsne_sample[:, 0], X_tsne_sample[:, 1], c=y_sample, cmap='coolwarm', s=100, edgecolor='k')\n",
        "plt.title('t-SNE Visualization of Breast Cancer Data (100 Points)', fontsize=14)\n",
        "plt.xlabel('TSNE Component 1')\n",
        "plt.ylabel('TSNE Component 2')\n",
        "plt.colorbar(label='Target (0 = Malignant, 1 = Benign)')\n",
        "plt.show()\n"
      ],
      "metadata": {
        "id": "D3DKodjmYIBD"
      },
      "execution_count": null,
      "outputs": []
    },
    {
      "cell_type": "markdown",
      "source": [
        "3. Split **my_data** to train and test:\n",
        "\n",
        "- Define X_train, X_test, Y_train, Y_test\n",
        "- Choose **test_size** for splitting **my_data**\n",
        "- Use **train_test_split** (for details: https://scikit-learn.org/dev/modules/generated/sklearn.model_selection.train_test_split.html)"
      ],
      "metadata": {
        "id": "LpYvmEUWlf2l"
      }
    },
    {
      "cell_type": "code",
      "source": [
        "\n",
        "from sklearn.model_selection import train_test_split\n",
        "\n",
        "# X_train, X_test, Y_train, Y_test = train_test_split(...)\n",
        "\n",
        "X_train, X_test, y_train, y_test = train_test_split(X, y, test_size=0.3, random_state=42)\n"
      ],
      "metadata": {
        "id": "V8CpCqnGmCg2"
      },
      "execution_count": 4,
      "outputs": []
    },
    {
      "cell_type": "markdown",
      "source": [
        "4. Train **model_decision_tree**\n",
        "\n",
        "- Library: sklearn.tree.DecisionTreeClassifier\n",
        "- Data: X_train, Y_train\n",
        "- **Essential**: explore and optimize DecisionTreeClassifier options   "
      ],
      "metadata": {
        "id": "o1_cFF_cjIyK"
      }
    },
    {
      "cell_type": "code",
      "source": [
        "from sklearn.tree import DecisionTreeClassifier\n",
        "\n",
        "# model_decision_tree = DecisionTreeClassifier(...)\n",
        "# model_decision_tree.fit(...)\n",
        "\n",
        "dt_model = DecisionTreeClassifier(random_state=42, max_depth=5, min_samples_split=10)\n",
        "dt_model.fit(X_train, y_train)\n"
      ],
      "metadata": {
        "id": "W8CWNt_2iZm4"
      },
      "execution_count": null,
      "outputs": []
    },
    {
      "cell_type": "markdown",
      "source": [
        "5. Train model_random_forest\n",
        "- Library: sklearn.ensemble.RandomForestClassifier\n",
        "- Data: X_train, Y_train\n",
        "- **Essential**: explore and optimize RandomForestClassifier options"
      ],
      "metadata": {
        "id": "X__nmyElkPWs"
      }
    },
    {
      "cell_type": "code",
      "source": [
        "from sklearn.ensemble import RandomForestClassifier\n",
        "\n",
        "# model_random_forest = RandomForestClassifier(...)\n",
        "# model_random_forest.fit(...)\n",
        "\n",
        "rf_model = RandomForestClassifier(random_state=42, n_estimators=100, max_depth=7, min_samples_split=10)\n",
        "rf_model.fit(X_train, y_train)\n"
      ],
      "metadata": {
        "id": "6B4GKjlCkRdT"
      },
      "execution_count": null,
      "outputs": []
    },
    {
      "cell_type": "markdown",
      "source": [
        "6. Train model_adaboost\n",
        "\n",
        "- Library: sklearn.ensemble.AdaBoostClassifier\n",
        "- Data: X_train, Y_train\n",
        "- **Essential**: explore and optimize AdaBoostClassifier options"
      ],
      "metadata": {
        "id": "4qOTlMrDkSBM"
      }
    },
    {
      "cell_type": "code",
      "source": [
        "from sklearn.ensemble import AdaBoostClassifier\n",
        "\n",
        "# model_adaboost = AdaBoostClassifier(...)\n",
        "# model_adaboost.fit(...)\n",
        "\n",
        "ab_model = AdaBoostClassifier(random_state=42, n_estimators=50, learning_rate=1.0)\n",
        "ab_model.fit(X_train, y_train)\n"
      ],
      "metadata": {
        "id": "Y5VGaDhJkYsL"
      },
      "execution_count": null,
      "outputs": []
    },
    {
      "cell_type": "markdown",
      "source": [
        "7. Evaluate model_decision_tree, model_random_forest, model_adaboost\n",
        "\n",
        "- Library: sklearn.metrics\n",
        "- Data: X_test, Y_test\n",
        "- **Calculate** and **print** results of each classifier\n",
        "- **Choose** the decisive metric\n",
        "- **Compare** between the classifiers and declare the winner\n"
      ],
      "metadata": {
        "id": "0AdCG5Pfta5S"
      }
    },
    {
      "cell_type": "code",
      "source": [
        "from sklearn.metrics import accuracy_score\n",
        "from sklearn.metrics import confusion_matrix\n",
        "from sklearn.metrics import precision_score\n",
        "from sklearn.metrics import recall_score\n",
        "from sklearn.metrics import f1_score\n",
        "\n",
        "def evaluate_model(model, X_test, y_test):\n",
        "    y_pred = model.predict(X_test)\n",
        "    return {\n",
        "        'Accuracy': accuracy_score(y_test, y_pred),\n",
        "        'F1 Score': f1_score(y_test, y_pred),\n",
        "        'Precision': precision_score(y_test, y_pred),\n",
        "        'Recall': recall_score(y_test, y_pred)\n",
        "    }\n",
        "\n",
        "dt_metrics = evaluate_model(dt_model, X_test, y_test)\n",
        "rf_metrics = evaluate_model(rf_model, X_test, y_test)\n",
        "ab_metrics = evaluate_model(ab_model, X_test, y_test)\n",
        "\n",
        "print(\"Decision Tree Metrics:\", dt_metrics)\n",
        "print(\"Random Forest Metrics:\", rf_metrics)\n",
        "print(\"AdaBoost Metrics:\", ab_metrics)\n",
        "\n",
        "results = pd.DataFrame([dt_metrics, rf_metrics, ab_metrics],\n",
        "                         index=['Decision Tree', 'Random Forest', 'AdaBoost'])\n",
        "print(\"\\nComparison of Models:\\n\", results)\n",
        "\n",
        "winner = results['F1 Score'].idxmax()\n",
        "print(f\"\\nThe best model based on F1 Score is: {winner}\")\n",
        "\n",
        "\n",
        "\n",
        "\n",
        "\n"
      ],
      "metadata": {
        "id": "MkTXQR3mrBmM",
        "colab": {
          "base_uri": "https://localhost:8080/"
        },
        "outputId": "e90671e0-4c24-4880-9c76-ccb1709f1177"
      },
      "execution_count": 17,
      "outputs": [
        {
          "output_type": "stream",
          "name": "stdout",
          "text": [
            "Decision Tree Metrics: {'Accuracy': 0.9532163742690059, 'F1 Score': 0.9629629629629629, 'Precision': 0.9629629629629629, 'Recall': 0.9629629629629629}\n",
            "Random Forest Metrics: {'Accuracy': 0.9649122807017544, 'F1 Score': 0.9724770642201835, 'Precision': 0.9636363636363636, 'Recall': 0.9814814814814815}\n",
            "AdaBoost Metrics: {'Accuracy': 0.9766081871345029, 'F1 Score': 0.9814814814814815, 'Precision': 0.9814814814814815, 'Recall': 0.9814814814814815}\n",
            "\n",
            "Comparison of Models:\n",
            "                Accuracy  F1 Score  Precision    Recall\n",
            "Decision Tree  0.953216  0.962963   0.962963  0.962963\n",
            "Random Forest  0.964912  0.972477   0.963636  0.981481\n",
            "AdaBoost       0.976608  0.981481   0.981481  0.981481\n",
            "\n",
            "The best model based on F1 Score is: AdaBoost\n"
          ]
        }
      ]
    }
  ]
}